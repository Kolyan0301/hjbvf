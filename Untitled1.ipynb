{
  "nbformat": 4,
  "nbformat_minor": 0,
  "metadata": {
    "colab": {
      "provenance": []
    },
    "kernelspec": {
      "name": "python3",
      "display_name": "Python 3"
    },
    "language_info": {
      "name": "python"
    }
  },
  "cells": [
    {
      "cell_type": "code",
      "execution_count": 6,
      "metadata": {
        "colab": {
          "base_uri": "https://localhost:8080/"
        },
        "id": "IV8WskRoSjB0",
        "outputId": "c89a94ea-2541-4c94-ef4a-fe11727e0aa1"
      },
      "outputs": [
        {
          "output_type": "stream",
          "name": "stdout",
          "text": [
            "Введите переменную x:10\n",
            "Введите переменную t:1\n",
            "z=2762685.71\n"
          ]
        }
      ],
      "source": [
        "import math\n",
        "x=int(input(\"Введите переменную x:\"))\n",
        "t=int(input(\"Введите переменную t:\"))\n",
        "z=((9*math.pi*t+10*math.cos(x))/(math.sqrt(t)-math.fabs(math.sin(t))))*math.pow(math.e,x)\n",
        "print(\"z={0:.2f}\".format(z))"
      ]
    }
  ]
}